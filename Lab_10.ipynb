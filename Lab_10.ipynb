{
  "nbformat": 4,
  "nbformat_minor": 0,
  "metadata": {
    "colab": {
      "name": "Lab_10",
      "provenance": [],
      "collapsed_sections": [],
      "authorship_tag": "ABX9TyPjZhMXB9xk0/Tjy0iulrhT",
      "include_colab_link": true
    },
    "kernelspec": {
      "name": "python3",
      "display_name": "Python 3"
    },
    "language_info": {
      "name": "python"
    }
  },
  "cells": [
    {
      "cell_type": "markdown",
      "metadata": {
        "id": "view-in-github",
        "colab_type": "text"
      },
      "source": [
        "<a href=\"https://colab.research.google.com/github/R0ckie/Laboratory-10/blob/main/Lab_10.ipynb\" target=\"_parent\"><img src=\"https://colab.research.google.com/assets/colab-badge.svg\" alt=\"Open In Colab\"/></a>"
      ]
    },
    {
      "cell_type": "code",
      "metadata": {
        "id": "vbwSudJ7Wv8e"
      },
      "source": [
        "import numpy as np\n",
        "import matplotlib.pyplot as plt\n",
        "%matplotlib inline\n"
      ],
      "execution_count": 12,
      "outputs": []
    },
    {
      "cell_type": "code",
      "metadata": {
        "colab": {
          "base_uri": "https://localhost:8080/",
          "height": 589
        },
        "id": "4zQmUp2BvUzY",
        "outputId": "ab78e97b-c670-46a5-a587-c7b8c9c5971e"
      },
      "source": [
        "def scatter_plot(x):\n",
        "    size= (5,5)\n",
        "    plt.figure(figsize=(4,4))\n",
        "    plt.xlim(-size[0],size[0])\n",
        "    plt.ylim(-size[1],size[1])\n",
        "    plt.xticks(np.arange((-size[0]), size[0]+1, 1.0))\n",
        "    plt.yticks(np.arange((-size[1]), size[1]+1, 1.0))\n",
        "    plt.scatter(x[:,0], x[1,:])\n",
        "    plt.grid()\n",
        "    plt.show()\n",
        "\n",
        "def rot_matrix(theta):\n",
        "    theta = np.deg2rad(theta)\n",
        "    rot_mat = np.array([\n",
        "        [np.cos(theta), -np.sin(theta)],\n",
        "        [np.sin(theta), np.cos(theta)]\n",
        "    ])\n",
        "    return rot_mat\n",
        "\n",
        "def return_matrix(y):\n",
        "  print(np.matrix(y[:,:]))\n",
        "\n",
        "L = np.array([\n",
        "              [1,2],\n",
        "              [2,1]\n",
        "])\n",
        "\n",
        "rotate = rot_matrix(90)\n",
        "scatter_plot(L)\n",
        "return_matrix(L)\n",
        "scatter_plot(L @ rotate)\n",
        "return_matrix(L @ rotate)"
      ],
      "execution_count": 15,
      "outputs": [
        {
          "output_type": "display_data",
          "data": {
            "image/png": "[encoded data removed]",
            "text/plain": [
              "<Figure size 288x288 with 1 Axes>"
            ]
          },
          "metadata": {
            "tags": [],
            "needs_background": "light"
          }
        },
        {
          "output_type": "stream",
          "text": [
            "[[1 2]\n",
            " [2 1]]\n"
          ],
          "name": "stdout"
        },
        {
          "output_type": "display_data",
          "data": {
            "image/png": "[encoded data removed]",
            "text/plain": [
              "<Figure size 288x288 with 1 Axes>"
            ]
          },
          "metadata": {
            "tags": [],
            "needs_background": "light"
          }
        },
        {
          "output_type": "stream",
          "text": [
            "[[ 2. -1.]\n",
            " [ 1. -2.]]\n"
          ],
          "name": "stdout"
        }
      ]
    }
  ]
}